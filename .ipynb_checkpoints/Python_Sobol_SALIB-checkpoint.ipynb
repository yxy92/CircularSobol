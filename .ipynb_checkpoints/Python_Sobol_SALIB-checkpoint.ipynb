{
 "cells": [
  {
   "cell_type": "markdown",
   "id": "2dcf7ea8",
   "metadata": {},
   "source": [
    "# Test SALib for sensitivity analysis "
   ]
  },
  {
   "cell_type": "code",
   "execution_count": 1,
   "id": "d38301f6",
   "metadata": {},
   "outputs": [],
   "source": [
    "from SALib.sample import saltelli\n",
    "from SALib.sample import latin\n",
    "import SALib.sample.sobol as Ss\n",
    "from SALib.analyze import sobol\n",
    "from SALib.test_functions import Ishigami\n",
    "import numpy as np\n",
    "from scipy.integrate import odeint\n",
    "from scipy.interpolate import CubicSpline\n",
    "import numpy as np\n",
    "import scipy as sp # for inverse CDF (ppf) function for distributions\n",
    "import matplotlib.pyplot as plt"
   ]
  },
  {
   "cell_type": "code",
   "execution_count": 2,
   "id": "f37fab95",
   "metadata": {},
   "outputs": [
    {
     "name": "stderr",
     "output_type": "stream",
     "text": [
      "C:\\Users\\jacky92\\AppData\\Local\\Temp\\ipykernel_16124\\654639362.py:10: DeprecationWarning: `salib.sample.saltelli` will be removed in SALib 1.5. Please use `salib.sample.sobol`\n",
      "  param_values_1 = saltelli.sample(problem_1, 2**12)\n"
     ]
    }
   ],
   "source": [
    "# example problem\n",
    "\"\"\"\n",
    "problem_1 = {\n",
    "    'num_vars': 3,\n",
    "    'names': ['x1', 'x2', 'x3'],\n",
    "    'bounds': [[-3.14159265359, 3.14159265359],\n",
    "               [-3.14159265359, 3.14159265359],\n",
    "               [-3.14159265359, 3.14159265359]]\n",
    "}\n",
    "\n",
    "param_values_1 = saltelli.sample(problem_1, 2**12)\n",
    "\n",
    "\n",
    "\n",
    "Y_1 = Ishigami.evaluate(param_values_1)\n",
    "\"\"\""
   ]
  },
  {
   "cell_type": "code",
   "execution_count": 3,
   "id": "bb42567b",
   "metadata": {},
   "outputs": [
    {
     "data": {
      "text/plain": [
       "(32768, 3)"
      ]
     },
     "execution_count": 3,
     "metadata": {},
     "output_type": "execute_result"
    }
   ],
   "source": [
    "# param_values_1.shape"
   ]
  },
  {
   "cell_type": "code",
   "execution_count": 4,
   "id": "716ed489",
   "metadata": {},
   "outputs": [
    {
     "data": {
      "text/plain": [
       "(32768,)"
      ]
     },
     "execution_count": 4,
     "metadata": {},
     "output_type": "execute_result"
    }
   ],
   "source": [
    "# Y_1.shape"
   ]
  },
  {
   "cell_type": "code",
   "execution_count": 5,
   "id": "23cf8e71",
   "metadata": {},
   "outputs": [],
   "source": [
    "# Si = sobol.analyze(problem_1, Y_1)"
   ]
  },
  {
   "cell_type": "code",
   "execution_count": 6,
   "id": "261c6a10",
   "metadata": {},
   "outputs": [
    {
     "data": {
      "text/plain": [
       "{'S1': array([0.31553085, 0.44236212, 0.0015816 ]),\n",
       " 'S1_conf': array([0.02757033, 0.02418594, 0.03040382]),\n",
       " 'ST': array([0.55985671, 0.44238337, 0.24360481]),\n",
       " 'ST_conf': array([0.0464044 , 0.01771873, 0.01355564]),\n",
       " 'S2': array([[           nan, 2.36134546e-04, 2.42126224e-01],\n",
       "        [           nan,            nan, 1.68267093e-04],\n",
       "        [           nan,            nan,            nan]]),\n",
       " 'S2_conf': array([[       nan, 0.040286  , 0.0575487 ],\n",
       "        [       nan,        nan, 0.02873331],\n",
       "        [       nan,        nan,        nan]])}"
      ]
     },
     "execution_count": 6,
     "metadata": {},
     "output_type": "execute_result"
    }
   ],
   "source": [
    "# Si"
   ]
  },
  {
   "cell_type": "code",
   "execution_count": 7,
   "id": "0bbcc8b3",
   "metadata": {},
   "outputs": [],
   "source": [
    "# Define Sarah's rhythmic mRNA degradation model\n",
    "\n",
    "def Sarah_rhythmic_mRNA(par):\n",
    "    model_output = np.zeros(3)\n",
    "    \n",
    "    # simulation time interval\n",
    "    t = np.linspace(0,700,701)\n",
    "    # intial value\n",
    "    x0 = 0;\n",
    "\n",
    "    sol = odeint(ode_model,x0,t,args=(par,))\n",
    "    # cubic interpolation \n",
    "\n",
    "    spl = CubicSpline(t,sol)\n",
    "    t_int = np.linspace(600,648,2000)\n",
    "    sol_int = spl(t_int)\n",
    "    \n",
    "    maxss = max(sol_int)\n",
    "    minss = min(sol_int)\n",
    "    \n",
    "    t_max = np.argmax(sol_int)\n",
    "    phase = t_int[t_max]\n",
    "    # calculate total mRNA rhythmicity\n",
    "    model_output[0] =  np.mean(sol_int);\n",
    "    model_output[1] = (maxss-minss)/(maxss+minss)\n",
    "    model_output[2] = np.mod(phase,24)*2*np.pi/24\n",
    "    \n",
    "    \n",
    "    '''\n",
    "    # plot\n",
    "    plt.plot(t,sol,'--',label='ode sol')\n",
    "    plt.scatter(t_int,sol_int,s=2*np.ones(len(t_int)),color='red',label='cubic interpolation')\n",
    "    plt.scatter(phase,maxss,s=50,marker='^',color='green',label='peak phase')\n",
    "    plt.grid()\n",
    "    plt.xlim([600,648])\n",
    "    plt.xlabel('phase(h)')\n",
    "    plt.ylabel('[mRNA]')\n",
    "    plt.legend()\n",
    "    plt.show()\n",
    "    '''\n",
    "    return model_output[0],model_output[1],model_output[2]\n",
    "    #return model_output\n",
    "\n",
    "# ODE model of rhythmic mRNA degradation\n",
    "def ode_model(x,t,p):\n",
    "\n",
    "    Atrsc, Ptrsc, Kdgrd, Adgrd, Pdgrd = p\n",
    "\n",
    "    omg = 2*np.pi/24\n",
    "\n",
    "    Ktrsc = 1\n",
    "\n",
    "    dxdt = Ktrsc*(1+Atrsc*np.cos(omg*(t-Ptrsc)))-Kdgrd*(1+Adgrd*np.cos(omg*(t-Pdgrd)))*x\n",
    "    \n",
    "    return dxdt"
   ]
  },
  {
   "cell_type": "markdown",
   "id": "1b0dd8cb",
   "metadata": {},
   "source": [
    "# Use Saltelli sampling scheme (AB sampling)"
   ]
  },
  {
   "cell_type": "markdown",
   "id": "22a8148d",
   "metadata": {},
   "source": [
    "NumpyArray -> N x (2D + 2),  where N is sample size and D is the number of parameters."
   ]
  },
  {
   "cell_type": "code",
   "execution_count": 8,
   "id": "793980a7",
   "metadata": {},
   "outputs": [
    {
     "name": "stderr",
     "output_type": "stream",
     "text": [
      "C:\\Users\\jacky92\\AppData\\Local\\Temp\\ipykernel_16124\\1500076114.py:15: DeprecationWarning: `salib.sample.saltelli` will be removed in SALib 1.5. Please use `salib.sample.sobol`\n",
      "  param_values = saltelli.sample(problem, sample_size)\n"
     ]
    },
    {
     "data": {
      "image/png": "[encoded data removed]",
      "text/plain": [
       "<Figure size 640x480 with 3 Axes>"
      ]
     },
     "metadata": {},
     "output_type": "display_data"
    }
   ],
   "source": [
    "# Define the Model inputs distribution\n",
    "problem = {\n",
    "    'num_vars': 5,\n",
    "    'names': ['Atrsc', 'Ptrsc', 'Kdgrd', 'Adgrd','Pdgrd'],\n",
    "    'bounds': [[0, 1],\n",
    "               [0, 24],\n",
    "               [-1.58, 1.415],\n",
    "               [0, 1],\n",
    "               [0, 24]],\n",
    "    'dists':['unif','unif','unif','unif','unif'],\n",
    "    #'outputs': ['mean','amplitude','phase']\n",
    "}\n",
    "\n",
    "sample_size = 2**12\n",
    "param_values = saltelli.sample(problem, sample_size)\n",
    "#saltelli_param_values = saltelli.sample(problem, sample_size)\n",
    "# be careful of the usage of Sobol sequence, details in the discussion \n",
    "# UserWarning: \n",
    "#        Convergence properties of the Sobol' sequence is only valid if\n",
    "#        `N` (10000) is equal to `2^n`.\n",
    "\n",
    "# use inverse CDF to transform Kd distribution\n",
    "param_values[:,2] = 10**param_values[:,2]\n",
    "\n",
    "# Kd distribution created in MATLAB\n",
    "# Kd_pd_log= makedist('Uniform','lower',-1.58,'upper',1.415);\n",
    "# Kd_pd = 10.^random(Kd_pd_log,[size,1]);\n",
    "\n",
    "\n",
    "# plot the distribution of model parameters\n",
    "fig, (ax1,ax2,ax3) = plt.subplots(1,3)\n",
    "fig.suptitle('parameter distribution')\n",
    "ax1.hist(param_values[:,0])\n",
    "ax2.hist(param_values[:,1])\n",
    "ax3.hist(param_values[:,2])\n",
    "plt.show()"
   ]
  },
  {
   "cell_type": "code",
   "execution_count": 9,
   "id": "61db9890",
   "metadata": {},
   "outputs": [
    {
     "ename": "KeyboardInterrupt",
     "evalue": "",
     "output_type": "error",
     "traceback": [
      "\u001b[1;31m---------------------------------------------------------------------------\u001b[0m",
      "\u001b[1;31mKeyboardInterrupt\u001b[0m                         Traceback (most recent call last)",
      "Cell \u001b[1;32mIn[9], line 2\u001b[0m\n\u001b[0;32m      1\u001b[0m \u001b[38;5;66;03m# Run Sarah model\u001b[39;00m\n\u001b[1;32m----> 2\u001b[0m Y \u001b[38;5;241m=\u001b[39m np\u001b[38;5;241m.\u001b[39marray([Sarah_rhythmic_mRNA(par) \u001b[38;5;28;01mfor\u001b[39;00m par \u001b[38;5;129;01min\u001b[39;00m param_values])\n",
      "Cell \u001b[1;32mIn[9], line 2\u001b[0m, in \u001b[0;36m<listcomp>\u001b[1;34m(.0)\u001b[0m\n\u001b[0;32m      1\u001b[0m \u001b[38;5;66;03m# Run Sarah model\u001b[39;00m\n\u001b[1;32m----> 2\u001b[0m Y \u001b[38;5;241m=\u001b[39m np\u001b[38;5;241m.\u001b[39marray([\u001b[43mSarah_rhythmic_mRNA\u001b[49m\u001b[43m(\u001b[49m\u001b[43mpar\u001b[49m\u001b[43m)\u001b[49m \u001b[38;5;28;01mfor\u001b[39;00m par \u001b[38;5;129;01min\u001b[39;00m param_values])\n",
      "Cell \u001b[1;32mIn[7], line 11\u001b[0m, in \u001b[0;36mSarah_rhythmic_mRNA\u001b[1;34m(par)\u001b[0m\n\u001b[0;32m      8\u001b[0m \u001b[38;5;66;03m# intial value\u001b[39;00m\n\u001b[0;32m      9\u001b[0m x0 \u001b[38;5;241m=\u001b[39m \u001b[38;5;241m0\u001b[39m;\n\u001b[1;32m---> 11\u001b[0m sol \u001b[38;5;241m=\u001b[39m \u001b[43modeint\u001b[49m\u001b[43m(\u001b[49m\u001b[43mode_model\u001b[49m\u001b[43m,\u001b[49m\u001b[43mx0\u001b[49m\u001b[43m,\u001b[49m\u001b[43mt\u001b[49m\u001b[43m,\u001b[49m\u001b[43margs\u001b[49m\u001b[38;5;241;43m=\u001b[39;49m\u001b[43m(\u001b[49m\u001b[43mpar\u001b[49m\u001b[43m,\u001b[49m\u001b[43m)\u001b[49m\u001b[43m)\u001b[49m\n\u001b[0;32m     12\u001b[0m \u001b[38;5;66;03m# cubic interpolation \u001b[39;00m\n\u001b[0;32m     14\u001b[0m spl \u001b[38;5;241m=\u001b[39m CubicSpline(t,sol)\n",
      "File \u001b[1;32m~\\AppData\\Local\\anaconda3\\lib\\site-packages\\scipy\\integrate\\_odepack_py.py:242\u001b[0m, in \u001b[0;36modeint\u001b[1;34m(func, y0, t, args, Dfun, col_deriv, full_output, ml, mu, rtol, atol, tcrit, h0, hmax, hmin, ixpr, mxstep, mxhnil, mxordn, mxords, printmessg, tfirst)\u001b[0m\n\u001b[0;32m    240\u001b[0m t \u001b[38;5;241m=\u001b[39m copy(t)\n\u001b[0;32m    241\u001b[0m y0 \u001b[38;5;241m=\u001b[39m copy(y0)\n\u001b[1;32m--> 242\u001b[0m output \u001b[38;5;241m=\u001b[39m \u001b[43m_odepack\u001b[49m\u001b[38;5;241;43m.\u001b[39;49m\u001b[43modeint\u001b[49m\u001b[43m(\u001b[49m\u001b[43mfunc\u001b[49m\u001b[43m,\u001b[49m\u001b[43m \u001b[49m\u001b[43my0\u001b[49m\u001b[43m,\u001b[49m\u001b[43m \u001b[49m\u001b[43mt\u001b[49m\u001b[43m,\u001b[49m\u001b[43m \u001b[49m\u001b[43margs\u001b[49m\u001b[43m,\u001b[49m\u001b[43m \u001b[49m\u001b[43mDfun\u001b[49m\u001b[43m,\u001b[49m\u001b[43m \u001b[49m\u001b[43mcol_deriv\u001b[49m\u001b[43m,\u001b[49m\u001b[43m \u001b[49m\u001b[43mml\u001b[49m\u001b[43m,\u001b[49m\u001b[43m \u001b[49m\u001b[43mmu\u001b[49m\u001b[43m,\u001b[49m\n\u001b[0;32m    243\u001b[0m \u001b[43m                         \u001b[49m\u001b[43mfull_output\u001b[49m\u001b[43m,\u001b[49m\u001b[43m \u001b[49m\u001b[43mrtol\u001b[49m\u001b[43m,\u001b[49m\u001b[43m \u001b[49m\u001b[43matol\u001b[49m\u001b[43m,\u001b[49m\u001b[43m \u001b[49m\u001b[43mtcrit\u001b[49m\u001b[43m,\u001b[49m\u001b[43m \u001b[49m\u001b[43mh0\u001b[49m\u001b[43m,\u001b[49m\u001b[43m \u001b[49m\u001b[43mhmax\u001b[49m\u001b[43m,\u001b[49m\u001b[43m \u001b[49m\u001b[43mhmin\u001b[49m\u001b[43m,\u001b[49m\n\u001b[0;32m    244\u001b[0m \u001b[43m                         \u001b[49m\u001b[43mixpr\u001b[49m\u001b[43m,\u001b[49m\u001b[43m \u001b[49m\u001b[43mmxstep\u001b[49m\u001b[43m,\u001b[49m\u001b[43m \u001b[49m\u001b[43mmxhnil\u001b[49m\u001b[43m,\u001b[49m\u001b[43m \u001b[49m\u001b[43mmxordn\u001b[49m\u001b[43m,\u001b[49m\u001b[43m \u001b[49m\u001b[43mmxords\u001b[49m\u001b[43m,\u001b[49m\n\u001b[0;32m    245\u001b[0m \u001b[43m                         \u001b[49m\u001b[38;5;28;43mint\u001b[39;49m\u001b[43m(\u001b[49m\u001b[38;5;28;43mbool\u001b[39;49m\u001b[43m(\u001b[49m\u001b[43mtfirst\u001b[49m\u001b[43m)\u001b[49m\u001b[43m)\u001b[49m\u001b[43m)\u001b[49m\n\u001b[0;32m    246\u001b[0m \u001b[38;5;28;01mif\u001b[39;00m output[\u001b[38;5;241m-\u001b[39m\u001b[38;5;241m1\u001b[39m] \u001b[38;5;241m<\u001b[39m \u001b[38;5;241m0\u001b[39m:\n\u001b[0;32m    247\u001b[0m     warning_msg \u001b[38;5;241m=\u001b[39m _msgs[output[\u001b[38;5;241m-\u001b[39m\u001b[38;5;241m1\u001b[39m]] \u001b[38;5;241m+\u001b[39m \u001b[38;5;124m\"\u001b[39m\u001b[38;5;124m Run with full_output = 1 to get quantitative information.\u001b[39m\u001b[38;5;124m\"\u001b[39m\n",
      "Cell \u001b[1;32mIn[7], line 53\u001b[0m, in \u001b[0;36mode_model\u001b[1;34m(x, t, p)\u001b[0m\n\u001b[0;32m     49\u001b[0m omg \u001b[38;5;241m=\u001b[39m \u001b[38;5;241m2\u001b[39m\u001b[38;5;241m*\u001b[39mnp\u001b[38;5;241m.\u001b[39mpi\u001b[38;5;241m/\u001b[39m\u001b[38;5;241m24\u001b[39m\n\u001b[0;32m     51\u001b[0m Ktrsc \u001b[38;5;241m=\u001b[39m \u001b[38;5;241m1\u001b[39m\n\u001b[1;32m---> 53\u001b[0m dxdt \u001b[38;5;241m=\u001b[39m Ktrsc\u001b[38;5;241m*\u001b[39m(\u001b[38;5;241m1\u001b[39m\u001b[38;5;241m+\u001b[39mAtrsc\u001b[38;5;241m*\u001b[39m\u001b[43mnp\u001b[49m\u001b[38;5;241;43m.\u001b[39;49m\u001b[43mcos\u001b[49m\u001b[43m(\u001b[49m\u001b[43momg\u001b[49m\u001b[38;5;241;43m*\u001b[39;49m\u001b[43m(\u001b[49m\u001b[43mt\u001b[49m\u001b[38;5;241;43m-\u001b[39;49m\u001b[43mPtrsc\u001b[49m\u001b[43m)\u001b[49m\u001b[43m)\u001b[49m)\u001b[38;5;241m-\u001b[39mKdgrd\u001b[38;5;241m*\u001b[39m(\u001b[38;5;241m1\u001b[39m\u001b[38;5;241m+\u001b[39mAdgrd\u001b[38;5;241m*\u001b[39mnp\u001b[38;5;241m.\u001b[39mcos(omg\u001b[38;5;241m*\u001b[39m(t\u001b[38;5;241m-\u001b[39mPdgrd)))\u001b[38;5;241m*\u001b[39mx\n\u001b[0;32m     55\u001b[0m \u001b[38;5;28;01mreturn\u001b[39;00m dxdt\n",
      "\u001b[1;31mKeyboardInterrupt\u001b[0m: "
     ]
    }
   ],
   "source": [
    "# Run Sarah model\n",
    "Y = np.array([Sarah_rhythmic_mRNA(par) for par in param_values])"
   ]
  },
  {
   "cell_type": "code",
   "execution_count": null,
   "id": "6289b5a0",
   "metadata": {},
   "outputs": [],
   "source": [
    "Y.shape"
   ]
  },
  {
   "cell_type": "code",
   "execution_count": null,
   "id": "f7ad1700",
   "metadata": {},
   "outputs": [],
   "source": [
    "phase = Y[:,2]"
   ]
  },
  {
   "cell_type": "code",
   "execution_count": null,
   "id": "0bc59bd7",
   "metadata": {},
   "outputs": [],
   "source": [
    "phase.shape"
   ]
  },
  {
   "cell_type": "code",
   "execution_count": null,
   "id": "2849d352",
   "metadata": {},
   "outputs": [],
   "source": [
    "# Sobol analysis for each output\n",
    "sobol_indices = sobol.analyze(problem, phase)"
   ]
  },
  {
   "cell_type": "code",
   "execution_count": null,
   "id": "01c91a99",
   "metadata": {},
   "outputs": [],
   "source": [
    "sobol_indices.plot()"
   ]
  },
  {
   "cell_type": "markdown",
   "id": "49ca4493",
   "metadata": {},
   "source": [
    "# Use Sobol sequence sampling scheme "
   ]
  },
  {
   "cell_type": "markdown",
   "id": "a2ca9514",
   "metadata": {},
   "source": [
    "NumpyArray -> [N x (2D + 2)], where N is sample size and D is the number of parameters."
   ]
  },
  {
   "cell_type": "code",
   "execution_count": null,
   "id": "a3f40fa9",
   "metadata": {},
   "outputs": [],
   "source": [
    "sample_size_L = 2**12\n",
    "param_values_L = Ss.sample(problem, sample_size_L)"
   ]
  },
  {
   "cell_type": "code",
   "execution_count": null,
   "id": "8044433a",
   "metadata": {},
   "outputs": [],
   "source": [
    "# use inverse CDF to transform Kd distribution\n",
    "param_values_L[:,2] = 10**param_values_L[:,2]"
   ]
  },
  {
   "cell_type": "code",
   "execution_count": null,
   "id": "e2dbe340",
   "metadata": {},
   "outputs": [],
   "source": [
    "param_values_L.shape"
   ]
  },
  {
   "cell_type": "code",
   "execution_count": null,
   "id": "3fc286a5",
   "metadata": {},
   "outputs": [],
   "source": [
    "# plot the distribution of model parameters\n",
    "fig, (ax1,ax2,ax3) = plt.subplots(1,3)\n",
    "fig.suptitle('parameter distribution')\n",
    "ax1.hist(param_values_L[:,0])\n",
    "ax2.hist(param_values_L[:,1])\n",
    "ax3.hist(param_values_L[:,2])\n",
    "plt.show()"
   ]
  },
  {
   "cell_type": "code",
   "execution_count": null,
   "id": "f27839c3",
   "metadata": {},
   "outputs": [],
   "source": [
    "# Run Sarah model\n",
    "Y_L = np.array([Sarah_rhythmic_mRNA(par) for par in param_values_L])"
   ]
  },
  {
   "cell_type": "code",
   "execution_count": null,
   "id": "a0d4d76e",
   "metadata": {},
   "outputs": [],
   "source": [
    "Y_L.shape"
   ]
  },
  {
   "cell_type": "code",
   "execution_count": null,
   "id": "65f9106b",
   "metadata": {},
   "outputs": [],
   "source": [
    "phase_L = Y_L[:,2]"
   ]
  },
  {
   "cell_type": "code",
   "execution_count": null,
   "id": "4a33cc7b",
   "metadata": {},
   "outputs": [],
   "source": [
    "phase_L.shape"
   ]
  },
  {
   "cell_type": "code",
   "execution_count": null,
   "id": "a3ba3433",
   "metadata": {},
   "outputs": [],
   "source": [
    "# Sobol analysis for each output\n",
    "sobol_indices_L = sobol.analyze(problem, phase_L)"
   ]
  },
  {
   "cell_type": "code",
   "execution_count": null,
   "id": "b27ba79c",
   "metadata": {},
   "outputs": [],
   "source": [
    "sobol_indices_L.plot()"
   ]
  },
  {
   "cell_type": "markdown",
   "id": "efd9c0ce",
   "metadata": {},
   "source": [
    "# Testing Summary"
   ]
  },
  {
   "cell_type": "markdown",
   "id": "9c74fc4c",
   "metadata": {},
   "source": [
    "After checking the manual of SALib, Saltelli & Sobol sampling schemes are compatible with Sobol analyze function, whereas Latin Hyper Cube is not. It calls for more careful investigation of the sampling scheme."
   ]
  },
  {
   "cell_type": "code",
   "execution_count": null,
   "id": "4613bc41",
   "metadata": {},
   "outputs": [],
   "source": []
  }
 ],
 "metadata": {
  "kernelspec": {
   "display_name": "Python 3 (ipykernel)",
   "language": "python",
   "name": "python3"
  },
  "language_info": {
   "codemirror_mode": {
    "name": "ipython",
    "version": 3
   },
   "file_extension": ".py",
   "mimetype": "text/x-python",
   "name": "python",
   "nbconvert_exporter": "python",
   "pygments_lexer": "ipython3",
   "version": "3.10.9"
  }
 },
 "nbformat": 4,
 "nbformat_minor": 5
}
