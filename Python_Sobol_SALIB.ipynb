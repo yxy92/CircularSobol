{
 "cells": [
  {
   "cell_type": "code",
   "execution_count": 124,
   "id": "d38301f6",
   "metadata": {},
   "outputs": [],
   "source": [
    "from SALib.sample import saltelli\n",
    "from SALib.sample import latin\n",
    "from SALib.analyze import sobol\n",
    "import numpy as np\n",
    "from scipy.integrate import odeint\n",
    "from scipy.interpolate import CubicSpline\n",
    "import numpy as np\n",
    "import scipy as sp # for inverse CDF (ppf) function for distributions\n",
    "import matplotlib.pyplot as plt"
   ]
  },
  {
   "cell_type": "code",
   "execution_count": 125,
   "id": "0bbcc8b3",
   "metadata": {},
   "outputs": [],
   "source": [
    "# Define Sarah's rhythmic mRNA degradation model\n",
    "\n",
    "def Sarah_rhythmic_mRNA(par):\n",
    "    model_output = np.zeros(3)\n",
    "    \n",
    "    # simulation time interval\n",
    "    t = np.linspace(0,700,701)\n",
    "    # intial value\n",
    "    x0 = 0;\n",
    "\n",
    "    sol = odeint(ode_model,x0,t,args=(par,))\n",
    "    # cubic interpolation \n",
    "\n",
    "    spl = CubicSpline(t,sol)\n",
    "    t_int = np.linspace(600,648,2000)\n",
    "    sol_int = spl(t_int)\n",
    "    \n",
    "    maxss = max(sol_int)\n",
    "    minss = min(sol_int)\n",
    "    \n",
    "    t_max = np.argmax(sol_int)\n",
    "    phase = t_int[t_max]\n",
    "    # calculate total mRNA rhythmicity\n",
    "    model_output[0] =  np.mean(sol_int);\n",
    "    model_output[1] = (maxss-minss)/(maxss+minss)\n",
    "    model_output[2] = np.mod(phase,24)*2*np.pi/24\n",
    "    \n",
    "    \n",
    "    '''\n",
    "    # plot\n",
    "    plt.plot(t,sol,'--',label='ode sol')\n",
    "    plt.scatter(t_int,sol_int,s=2*np.ones(len(t_int)),color='red',label='cubic interpolation')\n",
    "    plt.scatter(phase,maxss,s=50,marker='^',color='green',label='peak phase')\n",
    "    plt.grid()\n",
    "    plt.xlim([600,648])\n",
    "    plt.xlabel('phase(h)')\n",
    "    plt.ylabel('[mRNA]')\n",
    "    plt.legend()\n",
    "    plt.show()\n",
    "    '''\n",
    "    return model_output[0],model_output[1],model_output[2]\n",
    "    #return model_output\n",
    "\n",
    "# ODE model of rhythmic mRNA degradation\n",
    "def ode_model(x,t,p):\n",
    "\n",
    "    Atrsc, Ptrsc, Kdgrd, Adgrd, Pdgrd = p\n",
    "\n",
    "    omg = 2*np.pi/24\n",
    "\n",
    "    Ktrsc = 1\n",
    "\n",
    "    dxdt = Ktrsc*(1+Atrsc*np.cos(omg*(t-Ptrsc)))-Kdgrd*(1+Adgrd*np.cos(omg*(t-Pdgrd)))*x\n",
    "    \n",
    "    return dxdt"
   ]
  },
  {
   "cell_type": "code",
   "execution_count": 126,
   "id": "793980a7",
   "metadata": {},
   "outputs": [
    {
     "data": {
      "image/png": "[encoded data removed]",
      "text/plain": [
       "<Figure size 640x480 with 3 Axes>"
      ]
     },
     "metadata": {},
     "output_type": "display_data"
    }
   ],
   "source": [
    "# Define the Model inputs distribution\n",
    "problem = {\n",
    "    'num_vars': 5,\n",
    "    'names': ['Atrsc', 'Ptrsc', 'Kdgrd', 'Adgrd','Pdgrd'],\n",
    "    'bounds': [[0, 1],\n",
    "               [0, 24],\n",
    "               [-1.58, 1.415],\n",
    "               [0, 1],\n",
    "               [0, 24]],\n",
    "    'dists':['unif','unif','unif','unif','unif'],\n",
    "    #'outputs': ['mean','amplitude','phase']\n",
    "}\n",
    "\n",
    "sample_size = 10**2\n",
    "param_values = latin.sample(problem, sample_size)\n",
    "#saltelli_param_values = saltelli.sample(problem, sample_size)\n",
    "# be careful of the usage of Sobol sequence, details in the discussion \n",
    "# UserWarning: \n",
    "#        Convergence properties of the Sobol' sequence is only valid if\n",
    "#        `N` (10000) is equal to `2^n`.\n",
    "\n",
    "# use inverse CDF to transform Kd distribution\n",
    "param_values[:,2] = 10**param_values[:,2]\n",
    "\n",
    "# Kd distribution created in MATLAB\n",
    "# Kd_pd_log= makedist('Uniform','lower',-1.58,'upper',1.415);\n",
    "# Kd_pd = 10.^random(Kd_pd_log,[size,1]);\n",
    "\n",
    "\n",
    "# plot the distribution of model parameters\n",
    "fig, (ax1,ax2,ax3) = plt.subplots(1,3)\n",
    "fig.suptitle('parameter distribution')\n",
    "ax1.hist(param_values[:,0])\n",
    "ax2.hist(param_values[:,1])\n",
    "ax3.hist(param_values[:,2])\n",
    "plt.show()"
   ]
  },
  {
   "cell_type": "code",
   "execution_count": 127,
   "id": "61db9890",
   "metadata": {},
   "outputs": [],
   "source": [
    "# Run Sarah model\n",
    "Y = np.array([Sarah_rhythmic_mRNA(par) for par in param_values])"
   ]
  },
  {
   "cell_type": "code",
   "execution_count": 128,
   "id": "2849d352",
   "metadata": {},
   "outputs": [
    {
     "ename": "RuntimeError",
     "evalue": "\n        Incorrect number of samples in model output file.\n        Confirm that calc_second_order matches option used during sampling.",
     "output_type": "error",
     "traceback": [
      "\u001b[1;31m---------------------------------------------------------------------------\u001b[0m",
      "\u001b[1;31mRuntimeError\u001b[0m                              Traceback (most recent call last)",
      "Cell \u001b[1;32mIn[128], line 3\u001b[0m\n\u001b[0;32m      1\u001b[0m \u001b[38;5;66;03m# Sobol analysis for each output\u001b[39;00m\n\u001b[0;32m      2\u001b[0m y \u001b[38;5;241m=\u001b[39m Y\u001b[38;5;241m.\u001b[39mT\n\u001b[1;32m----> 3\u001b[0m sobol_indices \u001b[38;5;241m=\u001b[39m \u001b[43msobol\u001b[49m\u001b[38;5;241;43m.\u001b[39;49m\u001b[43manalyze\u001b[49m\u001b[43m(\u001b[49m\u001b[43mproblem\u001b[49m\u001b[43m,\u001b[49m\u001b[43m \u001b[49m\u001b[43my\u001b[49m\u001b[43m[\u001b[49m\u001b[43m:\u001b[49m\u001b[43m,\u001b[49m\u001b[38;5;241;43m2\u001b[39;49m\u001b[43m]\u001b[49m\u001b[43m,\u001b[49m\u001b[43mcalc_second_order\u001b[49m\u001b[38;5;241;43m=\u001b[39;49m\u001b[38;5;28;43;01mFalse\u001b[39;49;00m\u001b[43m)\u001b[49m\n",
      "File \u001b[1;32mD:\\Anaconda\\lib\\site-packages\\SALib\\analyze\\sobol.py:119\u001b[0m, in \u001b[0;36manalyze\u001b[1;34m(problem, Y, calc_second_order, num_resamples, conf_level, print_to_console, parallel, n_processors, keep_resamples, seed)\u001b[0m\n\u001b[0;32m    117\u001b[0m     N \u001b[38;5;241m=\u001b[39m \u001b[38;5;28mint\u001b[39m(Y\u001b[38;5;241m.\u001b[39msize \u001b[38;5;241m/\u001b[39m (D \u001b[38;5;241m+\u001b[39m \u001b[38;5;241m2\u001b[39m))\n\u001b[0;32m    118\u001b[0m \u001b[38;5;28;01melse\u001b[39;00m:\n\u001b[1;32m--> 119\u001b[0m     \u001b[38;5;28;01mraise\u001b[39;00m \u001b[38;5;167;01mRuntimeError\u001b[39;00m(\n\u001b[0;32m    120\u001b[0m \u001b[38;5;250m        \u001b[39m\u001b[38;5;124;03m\"\"\"\u001b[39;00m\n\u001b[0;32m    121\u001b[0m \u001b[38;5;124;03m    Incorrect number of samples in model output file.\u001b[39;00m\n\u001b[0;32m    122\u001b[0m \u001b[38;5;124;03m    Confirm that calc_second_order matches option used during sampling.\"\"\"\u001b[39;00m\n\u001b[0;32m    123\u001b[0m     )\n\u001b[0;32m    125\u001b[0m \u001b[38;5;28;01mif\u001b[39;00m \u001b[38;5;129;01mnot\u001b[39;00m \u001b[38;5;241m0\u001b[39m \u001b[38;5;241m<\u001b[39m conf_level \u001b[38;5;241m<\u001b[39m \u001b[38;5;241m1\u001b[39m:\n\u001b[0;32m    126\u001b[0m     \u001b[38;5;28;01mraise\u001b[39;00m \u001b[38;5;167;01mRuntimeError\u001b[39;00m(\u001b[38;5;124m\"\u001b[39m\u001b[38;5;124mConfidence level must be between 0-1.\u001b[39m\u001b[38;5;124m\"\u001b[39m)\n",
      "\u001b[1;31mRuntimeError\u001b[0m: \n        Incorrect number of samples in model output file.\n        Confirm that calc_second_order matches option used during sampling."
     ]
    }
   ],
   "source": [
    "# Sobol analysis for each output\n",
    "y = Y.T\n",
    "sobol_indices = sobol.analyze(problem, y[:,2],calc_second_order=False)"
   ]
  },
  {
   "cell_type": "code",
   "execution_count": null,
   "id": "01c91a99",
   "metadata": {},
   "outputs": [],
   "source": [
    "sobol_indices[2].plot()"
   ]
  },
  {
   "cell_type": "code",
   "execution_count": null,
   "id": "905aa67b",
   "metadata": {},
   "outputs": [],
   "source": [
    "param_values.shape"
   ]
  },
  {
   "cell_type": "code",
   "execution_count": null,
   "id": "fa1e8cc0",
   "metadata": {},
   "outputs": [],
   "source": [
    "y.shape"
   ]
  },
  {
   "cell_type": "code",
   "execution_count": null,
   "id": "6ffb7491",
   "metadata": {},
   "outputs": [],
   "source": [
    "type(y[:,2])"
   ]
  },
  {
   "cell_type": "code",
   "execution_count": null,
   "id": "f65fd13e",
   "metadata": {},
   "outputs": [],
   "source": []
  }
 ],
 "metadata": {
  "kernelspec": {
   "display_name": "myenv",
   "language": "python",
   "name": "myenv"
  },
  "language_info": {
   "codemirror_mode": {
    "name": "ipython",
    "version": 3
   },
   "file_extension": ".py",
   "mimetype": "text/x-python",
   "name": "python",
   "nbconvert_exporter": "python",
   "pygments_lexer": "ipython3",
   "version": "3.9.12"
  }
 },
 "nbformat": 4,
 "nbformat_minor": 5
}
